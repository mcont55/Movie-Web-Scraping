{
 "cells": [
  {
   "cell_type": "code",
   "execution_count": 161,
   "id": "007d5e6e",
   "metadata": {},
   "outputs": [],
   "source": [
    "from bs4 import BeautifulSoup\n",
    "import requests, csv"
   ]
  },
  {
   "cell_type": "code",
   "execution_count": 162,
   "id": "4a2a9aef",
   "metadata": {},
   "outputs": [],
   "source": [
    "try:\n",
    "    source = requests.get('https://www.imdb.com/list/ls000096828/')\n",
    "    source.raise_for_status()\n",
    "    \n",
    "    soup = BeautifulSoup(source.text, 'html.parser')\n",
    "    \n",
    "    movies = soup.find('div', class_=\"lister-list\").find_all('div', class_=\"lister-item mode-detail\")\n",
    "    \n",
    "    with open('parsed_ranking.csv', 'w', newline='') as csvfile:\n",
    "        write = csv.writer(csvfile)\n",
    "        headers = [\"Movie Rank\",\"Movie Name\", \"Year of Release\", \"IMDB Rating\"]\n",
    "        write.writerow(headers)\n",
    "    \n",
    "        for movie in movies:\n",
    "            name = movie.find('h3', class_=\"lister-item-header\").a.text\n",
    "\n",
    "            rank = movie.find('h3', class_=\"lister-item-header\").get_text(strip=True).split('.')[0]\n",
    "\n",
    "            year = movie.find('span', class_=\"lister-item-year text-muted unbold\").text.strip('(II) (TV Movie Short) ')\n",
    "\n",
    "            IMDB_Rating = movie.find('span', class_=\"ipl-rating-star__rating\").text\n",
    "\n",
    "            #print(rank, name, year, IMDB_Rating)\n",
    "            movies = [rank, name, year, IMDB_Rating]\n",
    "            write.writerow(movies)\n",
    "        \n",
    "except Exception as e:\n",
    "       print(e)\n",
    "        "
   ]
  }
 ],
 "metadata": {
  "kernelspec": {
   "display_name": "Python 3 (ipykernel)",
   "language": "python",
   "name": "python3"
  },
  "language_info": {
   "codemirror_mode": {
    "name": "ipython",
    "version": 3
   },
   "file_extension": ".py",
   "mimetype": "text/x-python",
   "name": "python",
   "nbconvert_exporter": "python",
   "pygments_lexer": "ipython3",
   "version": "3.9.12"
  }
 },
 "nbformat": 4,
 "nbformat_minor": 5
}
